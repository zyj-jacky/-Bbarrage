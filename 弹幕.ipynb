{
 "cells": [
  {
   "cell_type": "code",
   "execution_count": 5,
   "metadata": {},
   "outputs": [],
   "source": [
    "import requests\n",
    "import datetime\n",
    "from bs4 import BeautifulSoup\n",
    "import pandas as pd\n",
    "import jieba\n",
    "from wordcloud import WordCloud\n",
    "import matplotlib.pyplot as plt\n",
    "\n",
    "headers = {'Accept':'*/*',\n",
    "'Accept-Encoding':'gzip, deflate, br',\n",
    "'Accept-Language':'zh-CN,zh;q=0.8,zh-TW;q=0.7,zh-HK;q=0.5,en-US;q=0.3,en;q=0.2',\n",
    "'Connection':'keep-alive',\n",
    "'Content-Length':'0',\n",
    "'Cookie':\"buvid3=697598FB-1DB0-4947-918F-15063BF99F611624infoc; LIVE_BUVID=AUTO7015332866146999; CURRENT_FNVAL=16; stardustvideo=1; rpdid=|(u~|mkklk)J0J'ulY|luRYmm; dssid=96km5495a916879e3; dsess=BAh7CkkiD3Nlc3Npb25faWQGOgZFVEkiFTU0OTVhOTE2ODc5ZTNlOGUGOwBG%0ASSIJY3NyZgY7AEZJIiVlY2Q0ZThjM2MzNGU3ZDRkYWMyZDY5MGNlYmJhYTM3%0AZQY7AEZJIg10cmFja2luZwY7AEZ7B0kiFEhUVFBfVVNFUl9BR0VOVAY7AFRJ%0AIi1mYjA5NmEyNjljYWEzNjJmYjk5MTRlNmNjODgwY2Y5ZmNiMTZiMzBkBjsA%0ARkkiGUhUVFBfQUNDRVBUX0xBTkdVQUdFBjsAVEkiLTExMmNmOTViNmNhODI4%0AYjdjMGExYmY0ZWYzZDg1MGMwMWJlOGEyMWYGOwBGSSIKY3RpbWUGOwBGbCsH%0A354LXUkiCGNpcAY7AEYiEzExNy4xNDMuNTIuMjM1%0A--b88627f76116973ebfb69a7a1bc6afb7e2f43a0a; fts=1561042664; sid=htbbj1lt\",\n",
    "'User-Agent':'Mozilla/5.0 (Windows NT 6.1; rv:67.0) Gecko/20100101 Firefox/67.0'\n",
    "}\n",
    "\n",
    "burl='https://www.bilibili.com/ranking'\n",
    "bdata = requests.get(burl, headers=headers)\n",
    "bcontent = bdata.text\n",
    "soup = BeautifulSoup(bcontent,'lxml')\n",
    "contentsoup = soup.findAll('div', attrs={'class':'info'})\n",
    "danmuku = {}\n",
    "# df = pd.DataFrame()\n",
    "list=[]\n",
    "# df1 = pd.DataFrame(columns=['A', 'B', 'C', 'D'])\n",
    "for ct in contentsoup[:3]:\n",
    "    url = \"https:%s\"%(ct.find('a').get('href'))\n",
    "    list.append(url)\n",
    "    name = ct.find('a').text\n",
    "    # print(url,name)\n",
    "    data = requests.get(url, headers=headers)\n",
    "    content = data.text\n",
    "    commentlist = content.split('related\":')[1]\n",
    "    comments = commentlist.split(',')\n",
    "    danmuku[url]={}\n",
    "    danmuku[url]['标题']=name\n",
    "    danmuku[url]['时间']=datetime.date.today()\n",
    "    danmuku[url]['弹幕'] = []\n",
    "    for comment in comments:\n",
    "        if('cid\"' in comment):\n",
    "            a=(comment.split(':')[1])\n",
    "            cidurl=(\"https://comment.bilibili.com/%s.xml\"%(a))\n",
    "            r=requests.get(cidurl)\n",
    "            r.encoding='utf8'\n",
    "            soup=BeautifulSoup(r.text,'lxml')\n",
    "            d=soup.find_all('d')\n",
    "\n",
    "            n=0\n",
    "            for p in d:\n",
    "                n+=1\n",
    "                danmuku[url]['弹幕'].append((cidurl, p.text))\n",
    "                # print(获取了%i条数据' %n)\n",
    "    # print(danmuku[url])\n",
    "    # print(danmuku)\n",
    "\n",
    "\n",
    "    # 将列表变为DataFrame，使用pandas进行分析\n",
    "\n",
    "    # df = pd.DataFrame(danmuku[url])\n",
    "    # df1 = df1.append(df)\n",
    "    # df.append(df1)\n",
    "    # result = df.append(pd.DataFrame(danmuku[url])\n",
    "\n",
    "#     dfuku)1=pd.DataFrame(danmuku[url])\n",
    "#     df = df.append(df1)\n",
    "# df.to_excel('%s.xlsx'%name)#讲爬下来的数据放在excel里\n",
    "# print(danm\n",
    "# result.to_excel('排行榜.xlsx')#讲爬下来的数据放在excel里\n",
    "# print(list)\n",
    "\n",
    "i=0\n",
    "dfz = pd.DataFrame(danmuku[list[i]])\n",
    "\n",
    "while i<=len(list)-1:\n",
    "    df = pd.DataFrame(danmuku[list[i]])\n",
    "    dfz=dfz.append(df)\n",
    "    i += 1\n",
    "\n",
    "dfz['弹幕url'] = dfz.apply(lambda x: x['弹幕'][0], axis=1)\n",
    "dfz['弹幕text'] = dfz.apply(lambda x: x['弹幕'][1], axis=1)\n",
    "dfz.to_excel('排行2榜.xlsx')\n",
    "# dfz.to_hdf('排行版.hdf', key='弹幕')\n",
    "# df1.to_excel('排行1榜.xlsx')"
   ]
  },
  {
   "cell_type": "code",
   "execution_count": 6,
   "metadata": {},
   "outputs": [
    {
     "name": "stderr",
     "output_type": "stream",
     "text": [
      "Building prefix dict from the default dictionary ...\n",
      "Dumping model to file cache C:\\Users\\ADMINI~1\\AppData\\Local\\Temp\\2\\jieba.cache\n",
      "Loading model cost 1.063 seconds.\n",
      "Prefix dict has been built succesfully.\n"
     ]
    }
   ],
   "source": [
    "df2=dfz\n",
    "text=str(df2['弹幕text'])\n",
    "# list1.to_txt('danmu.txt')\n",
    "# text = open('danmu.txt','r',encoding='utf-8').read()\n",
    "# text = ''.join(text)\n",
    "cut_text = jieba.cut(text)\n",
    "result = \" \".join(cut_text)"
   ]
  },
  {
   "cell_type": "code",
   "execution_count": 7,
   "metadata": {},
   "outputs": [],
   "source": [
    "from IPython.core.interactiveshell import InteractiveShell \n",
    "InteractiveShell.ast_node_interactivity = 'all' #默认为'last'"
   ]
  },
  {
   "cell_type": "code",
   "execution_count": 10,
   "metadata": {},
   "outputs": [
    {
     "data": {
      "text/plain": [
       "<wordcloud.wordcloud.WordCloud at 0x94137c4ef0>"
      ]
     },
     "execution_count": 10,
     "metadata": {},
     "output_type": "execute_result"
    },
    {
     "data": {
      "text/plain": [
       "<wordcloud.wordcloud.WordCloud at 0x94137c4ef0>"
      ]
     },
     "execution_count": 10,
     "metadata": {},
     "output_type": "execute_result"
    },
    {
     "data": {
      "text/plain": [
       "<Figure size 3200x3200 with 0 Axes>"
      ]
     },
     "execution_count": 10,
     "metadata": {},
     "output_type": "execute_result"
    },
    {
     "data": {
      "text/plain": [
       "<Figure size 432x288 with 0 Axes>"
      ]
     },
     "execution_count": 10,
     "metadata": {},
     "output_type": "execute_result"
    },
    {
     "data": {
      "text/plain": [
       "<matplotlib.image.AxesImage at 0x941c2caf60>"
      ]
     },
     "execution_count": 10,
     "metadata": {},
     "output_type": "execute_result"
    },
    {
     "data": {
      "text/plain": [
       "(-0.5, 1023.5, 965.5, -0.5)"
      ]
     },
     "execution_count": 10,
     "metadata": {},
     "output_type": "execute_result"
    },
    {
     "data": {
      "text/plain": [
       "<Figure size 3200x3200 with 0 Axes>"
      ]
     },
     "metadata": {},
     "output_type": "display_data"
    },
    {
     "data": {
      "image/png": "[encoded data removed]",
      "text/plain": [
       "<Figure size 432x288 with 1 Axes>"
      ]
     },
     "metadata": {
      "needs_background": "light"
     },
     "output_type": "display_data"
    }
   ],
   "source": [
    "wc = WordCloud(\n",
    "    font_path='simhei.ttf',     #字体路劲\n",
    "    background_color='white',   #背景颜色\n",
    "    width=2000,\n",
    "    height=1200,\n",
    "    max_font_size=50,            #字体大小\n",
    "    min_font_size=10,\n",
    "    mask=plt.imread('xin.jpg'), #背景图片\n",
    "    max_words=1000)\n",
    "wc.generate(result)\n",
    "wc.to_file('danmu.png') \n",
    "\n",
    "#5.显示图片\n",
    "plt.figure(figsize=(40, 40), dpi=80)\n",
    "plt.figure('jielun')   #图片显示的名字\n",
    "plt.imshow(wc)\n",
    "plt.axis('off')        #关闭坐标\n",
    "plt.show()"
   ]
  },
  {
   "cell_type": "code",
   "execution_count": 11,
   "metadata": {},
   "outputs": [],
   "source": [
    "# 显示全部变量\n",
    "from IPython.core.interactiveshell import InteractiveShell \n",
    "InteractiveShell.ast_node_interactivity = 'all' "
   ]
  }
 ],
 "metadata": {
  "kernelspec": {
   "display_name": "Python 3",
   "language": "python",
   "name": "python3"
  },
  "language_info": {
   "codemirror_mode": {
    "name": "ipython",
    "version": 3
   },
   "file_extension": ".py",
   "mimetype": "text/x-python",
   "name": "python",
   "nbconvert_exporter": "python",
   "pygments_lexer": "ipython3",
   "version": "3.7.3"
  }
 },
 "nbformat": 4,
 "nbformat_minor": 2
}
